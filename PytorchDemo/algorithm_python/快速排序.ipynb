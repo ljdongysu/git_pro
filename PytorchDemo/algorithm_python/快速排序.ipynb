{
 "cells": [
  {
   "cell_type": "code",
   "execution_count": 7,
   "metadata": {},
   "outputs": [],
   "source": [
    "def quick_sort_1(arrary):\n",
    "    if len(arrary)<2:\n",
    "        return arrary\n",
    "    basevalue = arrary[0]\n",
    "    \n",
    "    left = [m for m in arrary[1:] if m<basevalue]\n",
    "    middle = [m for m in arrary if m==basevalue]\n",
    "    right = [m for m in arrary[1:] if m>basevalue]\n",
    "    return quick_sort_1(left)+middle+quick_sort_1(right)"
   ]
  },
  {
   "cell_type": "code",
   "execution_count": 8,
   "metadata": {},
   "outputs": [],
   "source": [
    "arrary = [2,3,5,7,1,4,6,15,5,2,7,9,10,15,9,17,12]"
   ]
  },
  {
   "cell_type": "code",
   "execution_count": 9,
   "metadata": {},
   "outputs": [
    {
     "data": {
      "text/plain": [
       "[1, 2, 2, 3, 4, 5, 5, 6, 7, 7, 9, 9, 10, 12, 15, 15, 17]"
      ]
     },
     "execution_count": 9,
     "metadata": {},
     "output_type": "execute_result"
    }
   ],
   "source": [
    "quick_sort_1(arrary)"
   ]
  },
  {
   "cell_type": "code",
   "execution_count": null,
   "metadata": {},
   "outputs": [],
   "source": [
    "def quick_sort_2(left_arr,right_arr,key_value):\n",
    "    "
   ]
  }
 ],
 "metadata": {
  "kernelspec": {
   "display_name": "Python 3",
   "language": "python",
   "name": "python3"
  },
  "language_info": {
   "codemirror_mode": {
    "name": "ipython",
    "version": 3
   },
   "file_extension": ".py",
   "mimetype": "text/x-python",
   "name": "python",
   "nbconvert_exporter": "python",
   "pygments_lexer": "ipython3",
   "version": "3.5.2"
  }
 },
 "nbformat": 4,
 "nbformat_minor": 2
}
